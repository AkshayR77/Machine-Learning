{
  "nbformat": 4,
  "nbformat_minor": 0,
  "metadata": {
    "colab": {
      "provenance": [],
      "authorship_tag": "ABX9TyMIE3OyWgf/jDg9pWjRb1j/",
      "include_colab_link": true
    },
    "kernelspec": {
      "name": "python3",
      "display_name": "Python 3"
    },
    "language_info": {
      "name": "python"
    }
  },
  "cells": [
    {
      "cell_type": "markdown",
      "metadata": {
        "id": "view-in-github",
        "colab_type": "text"
      },
      "source": [
        "<a href=\"https://colab.research.google.com/github/AkshayR77/Machine-Learning/blob/ML/pswrd_authentication.ipynb\" target=\"_parent\"><img src=\"https://colab.research.google.com/assets/colab-badge.svg\" alt=\"Open In Colab\"/></a>"
      ]
    },
    {
      "cell_type": "code",
      "execution_count": null,
      "metadata": {
        "colab": {
          "base_uri": "https://localhost:8080/"
        },
        "id": "tpC40gtKNusB",
        "outputId": "0d9c6bfd-ede5-402f-9edb-0b5739cb412e"
      },
      "outputs": [
        {
          "output_type": "stream",
          "name": "stdout",
          "text": [
            "Enter Your Username : Akshay.R\n",
            "Enter Your Password : ··········\n",
            "enter your password again:··········\n",
            "enter your password again:··········\n",
            "Verified\n"
          ]
        }
      ],
      "source": [
        "#Creating id and password\n",
        "import getpass \n",
        "database = {\"Akshay.R\": \"123456\", \"R.Akshay\": \"654321\"}\n",
        "username = input(\"Enter Your Username : \")\n",
        "password = getpass.getpass(\"Enter Your Password : \")\n",
        "while True:\n",
        "    if password == database[username]:\n",
        "        break\n",
        "    else:\n",
        "        password = getpass.getpass(\"enter your password again:\")\n",
        "\n",
        "print(\"Verified\")"
      ]
    },
    {
      "cell_type": "code",
      "source": [
        "#Strong password authentication\n",
        "import string\n",
        "import secrets\n",
        "letters=string.ascii_letters\n",
        "digits=string.digits\n",
        "spl_char=string.punctuation\n",
        "alphabets=letters+digits+spl_char\n",
        "len=14\n",
        "psd=''\n",
        "for i in range(len):\n",
        "  psd+=''.join(secrets.choice(alphabets))\n",
        "print(psd)\n",
        "while True:\n",
        "  psd=''\n",
        "  for i in range(len):\n",
        "    psd+=''.join(secrets.choice(alphabets))\n",
        "  if (any(char in spl_char for char in psd)and sum(char in digits for char in psd)>=7):\n",
        "    break\n",
        "print(psd)\n"
      ],
      "metadata": {
        "colab": {
          "base_uri": "https://localhost:8080/"
        },
        "id": "One4i3aaOlNN",
        "outputId": "6b4e1d33-2dcc-4d22-b183-bcdd97de4f76"
      },
      "execution_count": null,
      "outputs": [
        {
          "output_type": "stream",
          "name": "stdout",
          "text": [
            "TN$OU\\o,+J}o(F\n",
            "i9eL116xg957U-\n"
          ]
        }
      ]
    },
    {
      "cell_type": "code",
      "source": [],
      "metadata": {
        "id": "D3MjUai4YShr"
      },
      "execution_count": null,
      "outputs": []
    }
  ]
}